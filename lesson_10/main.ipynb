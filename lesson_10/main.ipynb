{
 "cells": [
  {
   "metadata": {},
   "cell_type": "markdown",
   "source": "### Homework 10",
   "id": "a1581c5dbd9c0146"
  },
  {
   "metadata": {
    "ExecuteTime": {
     "end_time": "2024-06-23T14:04:14.249218Z",
     "start_time": "2024-06-23T14:03:01.458639Z"
    }
   },
   "cell_type": "code",
   "source": [
    "import cv2\n",
    "\n",
    "def run_tracker(tracker, video_path = 'data/test.mp4'):\n",
    "    video = cv2.VideoCapture(video_path)\n",
    "    if_tracker_inited = False\n",
    "\n",
    "    while True:\n",
    "        ret, frame = video.read()\n",
    "        if not ret:\n",
    "            print('End of video.')\n",
    "            break\n",
    "\n",
    "        if not if_tracker_inited:\n",
    "            tracker.init(frame, (631, 332,  54,  54))\n",
    "            if_tracker_inited = True\n",
    "        else:\n",
    "            ok, bbox = tracker.update(frame)\n",
    "            cv2.rectangle(frame, (bbox[0], bbox[1]),(bbox[0]+bbox[2],bbox[1]+bbox[3]),(0,255,0),2)\n",
    "            cv2.imshow('video', frame)\n",
    "\n",
    "        if cv2.waitKey(25) & 0xFF == ord('q'):\n",
    "            break\n",
    "\n",
    "    video.release()\n",
    "    cv2.destroyAllWindows()\n",
    "\n",
    "\n",
    "run_tracker(cv2.TrackerKCF_create())\n",
    "run_tracker(cv2.TrackerCSRT_create())"
   ],
   "id": "ef428318d9f6de32",
   "outputs": [],
   "execution_count": 9
  },
  {
   "metadata": {},
   "cell_type": "markdown",
   "source": [
    "### Compare the results:\n",
    "* Do you see any differences? If so, what are they?\n",
    "* Does one tracker perform better than the other? In what way?\n",
    "\n",
    "### Answers\n",
    "* Трекер KCF отключается, если машину на некоторое время перекрывает какой-то объект (например, другая машина, которая перестраивается между полосами дороги), а трекер CSRT продолжает следить и не отключается\n",
    "* Да, трекер CSRT работает лучше, поскольку не теряет объект отслеживания, в отличии от трекера KCF"
   ],
   "id": "ad2433ff6d43df0c"
  }
 ],
 "metadata": {
  "kernelspec": {
   "display_name": "Python 3",
   "language": "python",
   "name": "python3"
  },
  "language_info": {
   "codemirror_mode": {
    "name": "ipython",
    "version": 2
   },
   "file_extension": ".py",
   "mimetype": "text/x-python",
   "name": "python",
   "nbconvert_exporter": "python",
   "pygments_lexer": "ipython2",
   "version": "2.7.6"
  }
 },
 "nbformat": 4,
 "nbformat_minor": 5
}
